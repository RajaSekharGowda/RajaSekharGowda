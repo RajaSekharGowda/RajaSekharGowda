{
  "nbformat": 4,
  "nbformat_minor": 0,
  "metadata": {
    "colab": {
      "name": "download Kaggle to Gdrive.ipynb",
      "provenance": [],
      "collapsed_sections": [],
      "authorship_tag": "ABX9TyMz8wIuqu+iuHcm2EE1CRMl",
      "include_colab_link": true
    },
    "kernelspec": {
      "name": "python3",
      "display_name": "Python 3"
    },
    "language_info": {
      "name": "python"
    }
  },
  "cells": [
    {
      "cell_type": "markdown",
      "metadata": {
        "id": "view-in-github",
        "colab_type": "text"
      },
      "source": [
        "<a href=\"https://colab.research.google.com/github/RajaSekharGowda/RajaSekharGowda/blob/main/download_Kaggle_to_Gdrive.ipynb\" target=\"_parent\"><img src=\"https://colab.research.google.com/assets/colab-badge.svg\" alt=\"Open In Colab\"/></a>"
      ]
    },
    {
      "cell_type": "code",
      "execution_count": null,
      "metadata": {
        "id": "BOOXYgwpN8yD"
      },
      "outputs": [],
      "source": [
        "import os\n",
        "#path of your kaggle api \n",
        "os.environ['KAGGLE_CONFIG_DIR']= '/content/drive/MyDrive/Kaggle datasets/'"
      ]
    },
    {
      "cell_type": "code",
      "source": [
        "#change the directory to perticular folder where you want\n",
        "%cd /content/drive/MyDrive/Kaggle datasets"
      ],
      "metadata": {
        "id": "Q8esXmD3N_4V"
      },
      "execution_count": null,
      "outputs": []
    },
    {
      "cell_type": "code",
      "source": [
        "#dataset api \n",
        "!kaggle datasets download -d noulam/tomato"
      ],
      "metadata": {
        "id": "6eHa7gMRN_6o"
      },
      "execution_count": null,
      "outputs": []
    },
    {
      "cell_type": "code",
      "source": [
        "#unzip the file\n",
        "!unzip \\*.zip && rm *.zip"
      ],
      "metadata": {
        "id": "ZEDdpomKObDe"
      },
      "execution_count": null,
      "outputs": []
    }
  ]
}